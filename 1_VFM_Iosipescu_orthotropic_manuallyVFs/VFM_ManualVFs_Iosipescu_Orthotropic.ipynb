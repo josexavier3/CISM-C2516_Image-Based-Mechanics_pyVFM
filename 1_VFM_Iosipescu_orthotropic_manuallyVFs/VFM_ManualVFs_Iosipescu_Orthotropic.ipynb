{
 "cells": [
  {
   "cell_type": "markdown",
   "metadata": {},
   "source": [
    "# Virtual Fields Method: Iosipescu Orthotropic Material Identification\n",
    "\n",
    "Based on:\n",
    "\"The Virtual Fields Methods: Extracting constitutive mechanical parameters\n",
    "from full-field deformation measurements\" by F. Pierron, M. Grédiac\n",
    "\n",
    "## Introduction\n",
    "\n",
    "This notebook implements the Virtual Fields Method (VFM) for identifying orthotropic material properties using the Iosipescu test configuration. The analysis uses three different sets of manually-selected virtual fields to identify the four stiffness parameters: $Q_{11}$, $Q_{22}$, $Q_{12}$, and $Q_{66}$.\n",
    "\n",
    "**Key Features:**\n",
    "- Direct identification from full-field strain measurements\n",
    "- Three independent virtual field sets for validation\n",
    "- Comparison with reference values\n",
    "- Visualization of strain fields and results"
   ]
  },
  {
   "cell_type": "code",
   "metadata": {
    "ExecuteTime": {
     "end_time": "2025-10-05T20:24:37.325324Z",
     "start_time": "2025-10-05T20:24:37.321756Z"
    }
   },
   "source": [
    "# Import required libraries\n",
    "import numpy as np\n",
    "import pandas as pd\n",
    "import matplotlib.pyplot as plt\n",
    "import os\n",
    "import requests\n",
    "from scipy import io\n",
    "from io import StringIO\n",
    "\n",
    "# Set plotting parameters\n",
    "plt.rcParams['font.size'] = 12\n",
    "plt.rcParams['figure.figsize'] = (12, 8)"
   ],
   "outputs": [],
   "execution_count": 46
  },
  {
   "cell_type": "markdown",
   "metadata": {},
   "source": [
    "## 1. VFM Theory for Orthotropic Materials\n",
    "\n",
    "### Constitutive Relations\n",
    "\n",
    "For an orthotropic material in plane stress:\n",
    "\n",
    "$$\n",
    "\\begin{Bmatrix}\n",
    "\\sigma_{11} \\\\\n",
    "\\sigma_{22} \\\\\n",
    "\\sigma_{12}\n",
    "\\end{Bmatrix} =\n",
    "\\begin{bmatrix}\n",
    "Q_{11} & Q_{12} & 0 \\\\\n",
    "Q_{12} & Q_{22} & 0 \\\\\n",
    "0 & 0 & Q_{66}\n",
    "\\end{bmatrix}\n",
    "\\begin{Bmatrix}\n",
    "\\varepsilon_{11} \\\\\n",
    "\\varepsilon_{22} \\\\\n",
    "2\\varepsilon_{12}\n",
    "\\end{Bmatrix}\n",
    "$$\n",
    "\n",
    "### VFM Equation\n",
    "\n",
    "$$\n",
    "Q_{11} \\int_S \\varepsilon_1\\varepsilon_1^* \\, dS + Q_{22} \\int_S \\varepsilon_2\\varepsilon_2^* \\, dS + Q_{12} \\int_S (\\varepsilon_1\\varepsilon_2^* + \\varepsilon_2\\varepsilon_1^*) \\, dS + Q_{66} \\int_S \\varepsilon_6\\varepsilon_6^* \\, dS = \\int_{L_f} T_i u_i^* \\, dl\n",
    "$$\n",
    "\n",
    "### Engineering Constants\n",
    "\n",
    "$$\n",
    "E_1 = Q_{11} - \\frac{Q_{12}^2}{Q_{22}}, \\quad \\nu_{12} = \\frac{Q_{12}}{Q_{22}}, \\quad E_2 = Q_{22} - \\frac{Q_{12}^2}{Q_{11}}, \\quad G_{12} = Q_{66}\n",
    "$$"
   ]
  },
  {
   "cell_type": "markdown",
   "metadata": {},
   "source": [
    "## 2. VFM Implementation Class"
   ]
  },
  {
   "cell_type": "code",
   "metadata": {
    "ExecuteTime": {
     "end_time": "2025-10-05T20:24:37.386153Z",
     "start_time": "2025-10-05T20:24:37.373308Z"
    }
   },
   "source": [
    "class IosipescuVFM:\n",
    "    \"\"\"\n",
    "    VFM analysis with three virtual field sets for orthotropic materials\n",
    "    \"\"\"\n",
    "    \n",
    "    def __init__(self, data_source='csv'):\n",
    "        self.data_source = data_source\n",
    "        self.data = {}\n",
    "        self.results = {}\n",
    "    \n",
    "    # def load_data_from_csv(self, csv_dir='.'):\n",
    "    #     \"\"\"Load data from CSV files\"\"\"\n",
    "    #     # Load scalar parameters\n",
    "    #     scalar_path = os.path.join(csv_dir, 'scalarsFE.csv')\n",
    "    #\n",
    "    #     if os.path.exists(scalar_path):\n",
    "    #         with open(scalar_path, 'r') as f:\n",
    "    #             for line in f:\n",
    "    #                 if '=' in line:\n",
    "    #                     key, value = line.strip().split('=')\n",
    "    #                     key = key.strip()\n",
    "    #                     value = float(value.strip())\n",
    "    #\n",
    "    #                     if key == 'Length':\n",
    "    #                         self.data['L'] = value\n",
    "    #                     elif key == 'Width':\n",
    "    #                         self.data['w'] = value\n",
    "    #                     elif key == 'Thick':\n",
    "    #                         self.data['t'] = value\n",
    "    #                     elif key == 'P':\n",
    "    #                         self.data['F'] = value\n",
    "    #\n",
    "    #     # Load FEM data\n",
    "    #     fem_path = os.path.join(csv_dir, 'FEM2VFM.csv')\n",
    "    #\n",
    "    #     if os.path.exists(fem_path):\n",
    "    #         fem_data = pd.read_csv(fem_path, sep=r'\\s+')\n",
    "    #\n",
    "    #         self.data['X1'] = fem_data['X_Coord'].values\n",
    "    #         self.data['X2'] = fem_data['Y_Coord'].values\n",
    "    #         self.data['Eps1'] = fem_data['Eps_X'].values\n",
    "    #         self.data['Eps2'] = fem_data['Eps_Y'].values\n",
    "    #         self.data['Eps6'] = fem_data['Eps_XY'].values\n",
    "    #\n",
    "    #     self._validate_data()\n",
    "\n",
    "    def load_data_from_csv(self, csv_dir='.'):\n",
    "        \"\"\"Load data from CSV files (local or URL)\"\"\"\n",
    "\n",
    "        # Determine if we're working with URL or local path\n",
    "        is_url = csv_dir.startswith('http')\n",
    "\n",
    "        # Construct paths\n",
    "        if is_url:\n",
    "            base = csv_dir.rstrip('/')\n",
    "            scalar_path = f\"{base}/scalarsFE.csv\"\n",
    "            fem_path = f\"{base}/FEM2VFM.csv\"\n",
    "        else:\n",
    "            scalar_path = os.path.join(csv_dir, 'scalarsFE.csv')\n",
    "            fem_path = os.path.join(csv_dir, 'FEM2VFM.csv')\n",
    "\n",
    "        # Load scalar parameters\n",
    "        try:\n",
    "            if is_url:\n",
    "                response = requests.get(scalar_path)\n",
    "                response.raise_for_status()\n",
    "                content = response.text\n",
    "            else:\n",
    "                with open(scalar_path, 'r') as f:\n",
    "                    content = f.read()\n",
    "\n",
    "            for line in content.split('\\n'):\n",
    "                if '=' in line:\n",
    "                    key, value = line.strip().split('=')\n",
    "                    key = key.strip()\n",
    "                    value = float(value.strip())\n",
    "\n",
    "                    if key == 'Length':\n",
    "                        self.data['L'] = value\n",
    "                    elif key == 'Width':\n",
    "                        self.data['w'] = value\n",
    "                    elif key == 'Thick':\n",
    "                        self.data['t'] = value\n",
    "                    elif key == 'P':\n",
    "                        self.data['F'] = value\n",
    "\n",
    "            print(f\"Loaded scalars from: {scalar_path}\")\n",
    "        except Exception as e:\n",
    "            print(f\"Error loading {scalar_path}: {e}\")\n",
    "            raise\n",
    "\n",
    "        # Load FEM data\n",
    "        try:\n",
    "            fem_data = pd.read_csv(fem_path, sep=r'\\s+')\n",
    "\n",
    "            self.data['X1'] = fem_data['X_Coord'].values\n",
    "            self.data['X2'] = fem_data['Y_Coord'].values\n",
    "            self.data['Eps1'] = fem_data['Eps_X'].values\n",
    "            self.data['Eps2'] = fem_data['Eps_Y'].values\n",
    "            self.data['Eps6'] = fem_data['Eps_XY'].values\n",
    "\n",
    "            print(f\"Loaded FEM data from: {fem_path}\")\n",
    "        except Exception as e:\n",
    "            print(f\"Error loading {fem_path}: {e}\")\n",
    "            raise\n",
    "\n",
    "            self._validate_data()\n",
    "\n",
    "    def _validate_data(self):\n",
    "        \"\"\"Validate loaded data\"\"\"\n",
    "        print(\"Data validation:\")\n",
    "        for key, value in self.data.items():\n",
    "            if np.isscalar(value):\n",
    "                print(f\"  {key}: {value}\")\n",
    "            else:\n",
    "                arr = np.array(value)\n",
    "                print(f\"  {key}: shape {arr.shape}, range [{arr.min():.3f}, {arr.max():.3f}]\")\n",
    "\n",
    "    # Additional methods will be added below..."
   ],
   "outputs": [],
   "execution_count": 47
  },
  {
   "cell_type": "markdown",
   "metadata": {},
   "source": [
    "## 3. Virtual Field Set 1\n",
    "\n",
    "### Virtual Displacement Fields\n",
    "\n",
    "- **VF1:** $u_1^{*(1)} = 0, \\quad u_2^{*(1)} = -x_1$\n",
    "- **VF2:** $u_1^{*(2)} = x_1(L-x_1)x_2, \\quad u_2^{*(2)} = \\frac{x_1^3}{3} - \\frac{Lx_1^2}{2}$\n",
    "- **VF3:** $u_1^{*(3)} = 0, \\quad u_2^{*(3)} = x_1(L-x_1)x_2$\n",
    "- **VF4:** $u_1^{*(4)} = \\frac{L}{2\\pi} \\sin(2\\pi x_1/L), \\quad u_2^{*(4)} = 0$\n",
    "\n",
    "### Virtual Strain Fields\n",
    "\n",
    "- **VF1:** $\\varepsilon_1^{*(1)} = 0, \\quad \\varepsilon_2^{*(1)} = 0, \\quad \\varepsilon_6^{*(1)} = -1$\n",
    "- **VF2:** $\\varepsilon_1^{*(2)} = (L-2x_1)x_2, \\quad \\varepsilon_2^{*(2)} = 0, \\quad \\varepsilon_6^{*(2)} = 0$\n",
    "- **VF3:** $\\varepsilon_1^{*(3)} = 0, \\quad \\varepsilon_2^{*(3)} = x_1(L-x_1), \\quad \\varepsilon_6^{*(3)} = (L-2x_1)x_2$\n",
    "- **VF4:** $\\varepsilon_1^{*(4)} = \\cos(2\\pi x_1/L), \\quad \\varepsilon_2^{*(4)} = 0, \\quad \\varepsilon_6^{*(4)} = 0$"
   ]
  },
  {
   "cell_type": "code",
   "metadata": {
    "ExecuteTime": {
     "end_time": "2025-10-05T20:24:37.442416Z",
     "start_time": "2025-10-05T20:24:37.429833Z"
    }
   },
   "source": [
    "# Add virtual field methods to the class\n",
    "def virtual_fields_set_1(self, Eps1, Eps2, Eps6):\n",
    "    \"\"\"First set of virtual fields\"\"\"\n",
    "    X1 = self.data['X1']\n",
    "    X2 = self.data['X2']\n",
    "    L = self.data['L']\n",
    "    w = self.data['w']\n",
    "    t = self.data['t']\n",
    "    F = self.data['F']\n",
    "    \n",
    "    A = np.zeros((4, 4))\n",
    "    B = np.zeros(4)\n",
    "    \n",
    "    # VF1\n",
    "    A[0, 3] = np.mean(Eps6)\n",
    "    B[0] = F / (w * t)\n",
    "    \n",
    "    # VF2\n",
    "    vf2_eps1_star = (L - 2 * X1) * X2\n",
    "    A[1, 0] = -np.mean(Eps1 * vf2_eps1_star)\n",
    "    A[1, 2] = -np.mean(Eps2 * vf2_eps1_star)\n",
    "    B[1] = F * L * L / (6 * w * t)\n",
    "    \n",
    "    # VF3\n",
    "    vf3_eps2_star = X1 * (L - X1)\n",
    "    vf3_eps6_star = (L - 2 * X1) * X2\n",
    "    A[2, 1] = -np.mean(Eps2 * vf3_eps2_star)\n",
    "    A[2, 2] = -np.mean(Eps1 * vf3_eps2_star)\n",
    "    A[2, 3] = -np.mean(Eps6 * vf3_eps6_star)\n",
    "    B[2] = 0\n",
    "    \n",
    "    # VF4\n",
    "    vf4_eps1_star = np.cos(2 * np.pi * X1 / L)\n",
    "    A[3, 0] = np.mean(Eps1 * vf4_eps1_star)\n",
    "    A[3, 2] = np.mean(Eps2 * vf4_eps1_star)\n",
    "    B[3] = 0\n",
    "    \n",
    "    # Solve system\n",
    "    Q = np.linalg.solve(A, B)\n",
    "    return Q\n",
    "\n",
    "# Attach method to class\n",
    "IosipescuVFM.virtual_fields_set_1 = virtual_fields_set_1"
   ],
   "outputs": [],
   "execution_count": 48
  },
  {
   "cell_type": "markdown",
   "metadata": {},
   "source": [
    "## 4. Load and Process Data"
   ]
  },
  {
   "cell_type": "code",
   "metadata": {
    "ExecuteTime": {
     "end_time": "2025-10-05T20:24:43.122897Z",
     "start_time": "2025-10-05T20:24:37.498652Z"
    }
   },
   "source": [
    "# Initialize VFM analysis\n",
    "vfm = IosipescuVFM(data_source='csv')\n",
    "\n",
    "# Base URL\n",
    "BASE_URL = 'https://userweb.fct.unl.pt/~jmc.xavier/CISM_C2516/1_VFM_Iosipescu_orthotropic_manuallyVFs/'\n",
    "\n",
    "# Still works with local files\n",
    "# vfm.load_data_from_csv('.')\n",
    "\n",
    "try:\n",
    "    vfm.load_data_from_csv(BASE_URL)\n",
    "    print(\"Data loaded successfully from URL!\")\n",
    "except Exception as e:\n",
    "    print(f\"Error: {e}\")"
   ],
   "outputs": [
    {
     "name": "stdout",
     "output_type": "stream",
     "text": [
      "Loaded scalars from: https://userweb.fct.unl.pt/~jmc.xavier/CISM_C2516/1_VFM_Iosipescu_orthotropic_manuallyVFs/scalarsFE.csv\n",
      "Loaded FEM data from: https://userweb.fct.unl.pt/~jmc.xavier/CISM_C2516/1_VFM_Iosipescu_orthotropic_manuallyVFs/FEM2VFM.csv\n",
      "Data loaded successfully from URL!\n"
     ]
    }
   ],
   "execution_count": 49
  },
  {
   "cell_type": "markdown",
   "metadata": {},
   "source": [
    "## 5. Run Virtual Field Set 1"
   ]
  },
  {
   "cell_type": "code",
   "metadata": {
    "ExecuteTime": {
     "end_time": "2025-10-05T20:24:43.230505Z",
     "start_time": "2025-10-05T20:24:43.225143Z"
    }
   },
   "source": [
    "# Run VF Set 1\n",
    "Q1 = vfm.virtual_fields_set_1(\n",
    "    vfm.data['Eps1'],\n",
    "    vfm.data['Eps2'],\n",
    "    vfm.data['Eps6']\n",
    ")\n",
    "\n",
    "# Convert to GPa and display\n",
    "Q1_gpa = Q1 / 1e3\n",
    "\n",
    "print(\"\\nVirtual Field Set 1 Results:\")\n",
    "print(\"=\" * 40)\n",
    "print(f\"Q11 = {Q1_gpa[0]:.3f} GPa\")\n",
    "print(f\"Q22 = {Q1_gpa[1]:.3f} GPa\")\n",
    "print(f\"Q12 = {Q1_gpa[2]:.3f} GPa\")\n",
    "print(f\"Q66 = {Q1_gpa[3]:.3f} GPa\")"
   ],
   "outputs": [
    {
     "name": "stdout",
     "output_type": "stream",
     "text": [
      "\n",
      "Virtual Field Set 1 Results:\n",
      "========================================\n",
      "Q11 = 15.544 GPa\n",
      "Q22 = 1.959 GPa\n",
      "Q12 = 0.924 GPa\n",
      "Q66 = 1.109 GPa\n"
     ]
    }
   ],
   "execution_count": 50
  },
  {
   "cell_type": "markdown",
   "metadata": {},
   "source": [
    "## 6. Visualization of Results"
   ]
  },
  {
   "cell_type": "code",
   "metadata": {
    "ExecuteTime": {
     "end_time": "2025-10-05T20:24:43.703189Z",
     "start_time": "2025-10-05T20:24:43.272201Z"
    }
   },
   "source": [
    "# Plot strain fields\n",
    "fig, axes = plt.subplots(1, 3, figsize=(15, 5))\n",
    "\n",
    "X1 = vfm.data['X1']\n",
    "X2 = vfm.data['X2']\n",
    "strain_data = [vfm.data['Eps1'], vfm.data['Eps2'], vfm.data['Eps6']]\n",
    "strain_labels = [r'$\\varepsilon_1$', r'$\\varepsilon_2$', r'$\\varepsilon_6$']\n",
    "\n",
    "for i, (data, label, ax) in enumerate(zip(strain_data, strain_labels, axes)):\n",
    "    im = ax.tricontourf(X1, X2, data, levels=20, cmap='BrBG')\n",
    "    ax.set_aspect('equal')\n",
    "    ax.set_title(label, fontsize=14)\n",
    "    ax.set_xlabel(r'$x_1$ (mm)')\n",
    "    ax.set_ylabel(r'$x_2$ (mm)')\n",
    "    plt.colorbar(im, ax=ax)\n",
    "\n",
    "plt.tight_layout()\n",
    "plt.show()"
   ],
   "outputs": [
    {
     "data": {
      "text/plain": [
       "<Figure size 1500x500 with 6 Axes>"
      ],
      "image/png": "[encoded data removed]"
     },
     "metadata": {},
     "output_type": "display_data",
     "jetTransient": {
      "display_id": null
     }
    }
   ],
   "execution_count": 51
  },
  {
   "cell_type": "markdown",
   "metadata": {},
   "source": [
    "## 7. Comparison with Reference Values"
   ]
  },
  {
   "cell_type": "code",
   "metadata": {
    "ExecuteTime": {
     "end_time": "2025-10-05T20:24:43.717373Z",
     "start_time": "2025-10-05T20:24:43.712030Z"
    }
   },
   "source": [
    "# Reference values (from your analysis)\n",
    "Q_ref = np.array([15.536, 1.965, 0.926, 1.109])  # GPa\n",
    "\n",
    "# Calculate errors\n",
    "errors = np.abs(Q1_gpa - Q_ref) / Q_ref * 100\n",
    "\n",
    "# Create comparison table\n",
    "results_df = pd.DataFrame({\n",
    "    'Parameter': ['Q11', 'Q22', 'Q12', 'Q66'],\n",
    "    'Computed (GPa)': Q1_gpa,\n",
    "    'Reference (GPa)': Q_ref,\n",
    "    'Error (%)': errors\n",
    "})\n",
    "\n",
    "print(\"\\nComparison with Reference Values:\")\n",
    "print(results_df.to_string(index=False))"
   ],
   "outputs": [
    {
     "name": "stdout",
     "output_type": "stream",
     "text": [
      "\n",
      "Comparison with Reference Values:\n",
      "Parameter  Computed (GPa)  Reference (GPa)  Error (%)\n",
      "      Q11       15.544166           15.536   0.052562\n",
      "      Q22        1.959361            1.965   0.286976\n",
      "      Q12        0.924106            0.926   0.204553\n",
      "      Q66        1.109000            1.109   0.000044\n"
     ]
    }
   ],
   "execution_count": 52
  },
  {
   "cell_type": "markdown",
   "metadata": {},
   "source": [
    "## Conclusions\n",
    "\n",
    "This notebook demonstrated:\n",
    "\n",
    "1. Implementation of the Virtual Fields Method for orthotropic material identification\n",
    "2. Use of manually-selected virtual fields satisfying boundary conditions\n",
    "3. Direct identification of all four stiffness parameters from a single test\n",
    "4. Excellent agreement with reference values (< 1% error)\n",
    "\n",
    "**Key advantages of VFM:**\n",
    "- No iterative optimization required\n",
    "- Direct solution from linear system\n",
    "- Efficient use of full-field data\n",
    "- Robust to measurement noise"
   ]
  }
 ],
 "metadata": {
  "kernelspec": {
   "display_name": "Python [conda env:base] *",
   "language": "python",
   "name": "conda-base-py"
  },
  "language_info": {
   "codemirror_mode": {
    "name": "ipython",
    "version": 3
   },
   "file_extension": ".py",
   "mimetype": "text/x-python",
   "name": "python",
   "nbconvert_exporter": "python",
   "pygments_lexer": "ipython3",
   "version": "3.8.0"
  }
 },
 "nbformat": 4,
 "nbformat_minor": 4
}
